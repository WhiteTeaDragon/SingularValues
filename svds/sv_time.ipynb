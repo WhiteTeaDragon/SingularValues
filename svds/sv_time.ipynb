{
  "nbformat": 4,
  "nbformat_minor": 0,
  "metadata": {
    "colab": {
      "name": "sv_time.ipynb",
      "provenance": []
    },
    "kernelspec": {
      "name": "python3",
      "display_name": "Python 3"
    },
    "language_info": {
      "name": "python"
    }
  },
  "cells": [
    {
      "cell_type": "code",
      "metadata": {
        "id": "vCyeBr4Jkgm7"
      },
      "source": [
        "import tensorflow as tf\n",
        "import numpy as np\n",
        "from numpy.random import randint as ri\n",
        "from time import time\n",
        "import matplotlib.pyplot as plt"
      ],
      "execution_count": 1,
      "outputs": []
    },
    {
      "cell_type": "markdown",
      "metadata": {
        "id": "HVj98kLJkt3L"
      },
      "source": [
        "Usual fast -- from Sedghi"
      ]
    },
    {
      "cell_type": "code",
      "metadata": {
        "id": "PKtKf2jHB9rw"
      },
      "source": [
        "def circulant_sinvals(kernel, input_shape):\n",
        "    kernel_shape = kernel.shape\n",
        "    kernel_tr = tf.transpose(tf.cast(kernel, tf.complex128), [2, 3, 4, 0, 1])\n",
        "\n",
        "    padding = tf.constant([[0, 0], [0, 0], [0, 0],\n",
        "                           [0, input_shape[0] - kernel_shape[0]],\n",
        "                           [0, input_shape[1] - kernel_shape[1]]])\n",
        "\n",
        "    ps = tf.transpose(tf.signal.fft2d(tf.pad(kernel_tr, padding)), [3, 4, 0, 1, 2]) # puv from Sedghi\n",
        "    ps_fft = tf.signal.fft(ps) # diagonilizing puv-s\n",
        "    tensorok = tf.transpose(ps_fft, [0, 1, 4, 2, 3]) # corresponds to moving into blocks in theory\n",
        "    sinval = tf.linalg.svd(tensorok) # final values\n",
        "    return sinval\n",
        "\n",
        "def svd_reconstruction(svds):\n",
        "    u, sigma, v = svds\n",
        "    sigma = tf.cast(sigma, tf.complex128)\n",
        "    m, r, s = u.shape[0], u.shape[-1], v.shape[-2]\n",
        "\n",
        "    # reconstructing svd\n",
        "    rec0 = tf.matmul(u, tf.matmul(tf.linalg.diag(tf.cast(sigma, tf.complex128)), v, adjoint_b=True))\n",
        "\n",
        "    detensorok = tf.transpose(rec0, [0, 1, 3, 4, 2])\n",
        "    ps_ifft = tf.signal.ifft(detensorok)\n",
        "    res = tf.transpose(tf.signal.ifft2d(tf.transpose(ps_ifft, [2, 3, 4, 0, 1])), [3, 4, 0, 1, 2])\n",
        "    return res"
      ],
      "execution_count": 2,
      "outputs": []
    },
    {
      "cell_type": "code",
      "metadata": {
        "colab": {
          "base_uri": "https://localhost:8080/"
        },
        "id": "OquxH7S0B_rm",
        "outputId": "47aad736-4548-4d7a-bfef-5167b4bc8d15"
      },
      "source": [
        "kernel = ri(-3, 3, (3, 3, 2, 3, 3))\n",
        "\n",
        "s, u, v = circulant_sinvals(kernel, (16, 16))\n",
        "rec = svd_reconstruction((u, s, v))[:3, :3]\n",
        "np.allclose(rec.numpy(), kernel)"
      ],
      "execution_count": 3,
      "outputs": [
        {
          "output_type": "execute_result",
          "data": {
            "text/plain": [
              "True"
            ]
          },
          "metadata": {
            "tags": []
          },
          "execution_count": 3
        }
      ]
    },
    {
      "cell_type": "code",
      "metadata": {
        "id": "ye6-KRXxkofa"
      },
      "source": [
        "def usual_fast(conv, inp_shape):\n",
        "    conv_tr = tf.cast(tf.transpose(conv, perm=[2, 3, 0, 1]), tf.complex128)\n",
        "    conv_shape = conv.get_shape().as_list()\n",
        "    padding = tf.constant([[0, 0], [0, 0],\n",
        "                           [0, inp_shape[0] - conv_shape[0]],\n",
        "                           [0, inp_shape[1] - conv_shape[1]]])\n",
        "    transform_coeff = tf.signal.fft2d(tf.pad(conv_tr, padding))\n",
        "    D, U, V = tf.linalg.svd(tf.transpose(transform_coeff, perm=[2, 3, 0, 1]))\n",
        "    return D"
      ],
      "execution_count": 4,
      "outputs": []
    },
    {
      "cell_type": "markdown",
      "metadata": {
        "id": "sxpPqSgbk7nH"
      },
      "source": [
        "Circconv fast -- Sedghi + circ structure"
      ]
    },
    {
      "cell_type": "code",
      "metadata": {
        "id": "WDi1OOgmkrx8"
      },
      "source": [
        "def circulant_fast(kernel, input_shape):\n",
        "    kernel_shape = kernel.shape\n",
        "    kernel_tr = tf.transpose(tf.cast(kernel, tf.complex128), [2, 3, 4, 0, 1])\n",
        "\n",
        "    padding = tf.constant([[0, 0], [0, 0], [0, 0],\n",
        "                           [0, input_shape[0] - kernel_shape[0]],\n",
        "                           [0, input_shape[1] - kernel_shape[1]]])\n",
        "\n",
        "    ps = tf.transpose(tf.signal.fft2d(tf.pad(kernel_tr, padding)), [3, 4, 0, 1, 2]) # puv from Sedghi\n",
        "    ps_fft = tf.signal.fft(ps) # diagonilizing puv-s\n",
        "    tensorok = tf.transpose(ps_fft, [0, 1, 4, 2, 3]) # corresponds to moving into blocks in theory\n",
        "    sinval = tf.linalg.svd(tensorok) # final values\n",
        "    return sinval[0]"
      ],
      "execution_count": 5,
      "outputs": []
    },
    {
      "cell_type": "markdown",
      "metadata": {
        "id": "A3LakVqslFoA"
      },
      "source": [
        "Slow fast -- bruteforce svd from matrix layer. Note that the time is actually incorrect since the reconstruction of the whole matrix takes a lot of time"
      ]
    },
    {
      "cell_type": "code",
      "metadata": {
        "id": "Ca-c3hTAlEPd"
      },
      "source": [
        "def strided_method(ar):\n",
        "    a = np.concatenate((ar[1:], ar))\n",
        "    L = len(ar)\n",
        "    n = a.strides[0]\n",
        "    return np.lib.stride_tricks.as_strided(a[L-1:], (L,L), (-n,n)).copy()\n",
        "\n",
        "def strided_method_for_matrices(arr):\n",
        "    a = np.concatenate((arr[1:], arr))\n",
        "    L = len(arr)\n",
        "    n = a.strides[0]\n",
        "    return np.lib.stride_tricks.as_strided(a[L-1:], (L, L, *(arr[0].shape)), (-n,n, *(a.strides[1:])))\n",
        "\n",
        "def build_doubly_block_circ_matrix(k, n, kernel2d):\n",
        "    padded_kernel = np.pad(kernel2d, [(0, n - k), (0, n - k)], mode='constant')\n",
        "    arr = [0] * n\n",
        "    for i in range(n):\n",
        "        arr[i] = strided_method(padded_kernel[i])\n",
        "    return strided_method_for_matrices(arr).transpose(0, 2, 1, 3).reshape(-1, n**2)\n",
        "\n",
        "def build_matrix(k, n, m, kernel): # m -- channels, n -- input size, k -- kernel size\n",
        "    dbc_matrices = [[0] * m for i in range(m)]\n",
        "    for i in range(m):\n",
        "        for j in range(m):\n",
        "            dbc_matrices[i][j] = build_doubly_block_circ_matrix(k, n, kernel[:, :, i, j])\n",
        "    return np.block(dbc_matrices)\n",
        "\n",
        "def slow(kernel):\n",
        "     return tf.linalg.svd(kernel)[0]"
      ],
      "execution_count": 6,
      "outputs": []
    },
    {
      "cell_type": "markdown",
      "metadata": {
        "id": "tyDdx9s-lldS"
      },
      "source": [
        "Simple random test"
      ]
    },
    {
      "cell_type": "code",
      "metadata": {
        "colab": {
          "base_uri": "https://localhost:8080/"
        },
        "id": "nyA6DQlXlkjq",
        "outputId": "e47e2c4a-4c23-4786-8e0d-d45692a2c52e"
      },
      "source": [
        "c = 2\n",
        "n = 4\n",
        "w = 4\n",
        "kernel = ri(-3, 3, (w, w, c, c, n))\n",
        "full_kernel = tf.stack([tf.roll(kernel, i, -1) for i in range(n)], axis=-1)\n",
        "full_kernel = tf.reshape(tf.transpose(full_kernel, [0, 1, 2, 4, 3, 5]), (w, w, c * n, c * n))\n",
        "m_kernel = tf.cast(build_matrix(w, 16, c * n, full_kernel), tf.complex128)\n",
        "\n",
        "sin1 = slow(m_kernel)\n",
        "\n",
        "sin2 = circulant_fast(kernel, (16, 16))\n",
        "\n",
        "sin3 = usual_fast(full_kernel, (16, 16))\n",
        "\n",
        "np.allclose(sin1.numpy(), np.sort(sin2.numpy().flatten())[::-1]) * np.allclose(np.sort(sin2.numpy().flatten())[::-1], np.sort(sin3.numpy().flatten())[::-1]) == 1"
      ],
      "execution_count": 7,
      "outputs": [
        {
          "output_type": "execute_result",
          "data": {
            "text/plain": [
              "True"
            ]
          },
          "metadata": {
            "tags": []
          },
          "execution_count": 7
        }
      ]
    },
    {
      "cell_type": "markdown",
      "metadata": {
        "id": "3PJAnfxkl6ad"
      },
      "source": [
        "Plots"
      ]
    },
    {
      "cell_type": "code",
      "metadata": {
        "id": "VYYKyGT0l32y"
      },
      "source": [
        "res_slow = []\n",
        "res_cfast = []\n",
        "res_ufast = []\n",
        "\n",
        "for c in range(1, 66):\n",
        "    n, w = 3, 3\n",
        "    kernel = ri(-3, 3, (w, w, c, c, n))\n",
        "    full_kernel = tf.stack([tf.roll(kernel, i, -1) for i in range(n)], axis=-1)\n",
        "    full_kernel = tf.reshape(tf.transpose(full_kernel, [0, 1, 2, 4, 3, 5]), (w, w, c * n, c * n))\n",
        "    \n",
        "    if c < 4:\n",
        "        m_kernel = tf.cast(build_matrix(w, 16, c * n, full_kernel), tf.complex128)\n",
        "\n",
        "        op = time()\n",
        "        sin1 = slow(m_kernel)\n",
        "        res_slow.append(time() - op)\n",
        "\n",
        "    op = time()\n",
        "    sin2 = circulant_fast(kernel, (16, 16))\n",
        "    res_cfast.append(time() - op)\n",
        "\n",
        "    op = time()\n",
        "    sin3 = usual_fast(full_kernel, (16, 16))\n",
        "    res_ufast.append(time() - op)\n"
      ],
      "execution_count": 8,
      "outputs": []
    },
    {
      "cell_type": "code",
      "metadata": {
        "colab": {
          "base_uri": "https://localhost:8080/",
          "height": 499
        },
        "id": "QTENHJtsmCE8",
        "outputId": "467f60cd-70ba-48a9-e538-3129184c0189"
      },
      "source": [
        "from matplotlib.pyplot import figure\n",
        "figure(figsize=(12, 8))\n",
        "\n",
        "plt.plot(list(range(3, 3 * len(res_slow) + 1, 3)), res_slow, label='slow')\n",
        "plt.plot(list(range(3, 3 * len(res_cfast) + 1, 3)), res_cfast, label='circ fast')\n",
        "plt.plot(list(range(3, 3 * len(res_ufast) + 1, 3)), res_ufast, label='usual fast')\n",
        "plt.legend()\n",
        "plt.title('Time for svd (in seconds) from the number of channels')\n",
        "plt.ylim(-1, 12)\n",
        "plt.show()"
      ],
      "execution_count": 10,
      "outputs": [
        {
          "output_type": "display_data",
          "data": {
            "image/png": "[encoded data removed]",
            "text/plain": [
              "<Figure size 864x576 with 1 Axes>"
            ]
          },
          "metadata": {
            "tags": [],
            "needs_background": "light"
          }
        }
      ]
    },
    {
      "cell_type": "code",
      "metadata": {
        "id": "ToTxJiurmFVy"
      },
      "source": [
        ""
      ],
      "execution_count": 9,
      "outputs": []
    }
  ]
}