{
  "nbformat": 4,
  "nbformat_minor": 0,
  "metadata": {
    "kernelspec": {
      "display_name": "Python 3",
      "language": "python",
      "name": "python3"
    },
    "language_info": {
      "codemirror_mode": {
        "name": "ipython",
        "version": 3
      },
      "file_extension": ".py",
      "mimetype": "text/x-python",
      "name": "python",
      "nbconvert_exporter": "python",
      "pygments_lexer": "ipython3",
      "version": "3.6.5"
    },
    "toc": {
      "colors": {
        "hover_highlight": "#DAA520",
        "navigate_num": "#000000",
        "navigate_text": "#333333",
        "running_highlight": "#FF0000",
        "selected_highlight": "#FFD700",
        "sidebar_border": "#EEEEEE",
        "wrapper_background": "#FFFFFF"
      },
      "moveMenuLeft": true,
      "nav_menu": {
        "height": "264px",
        "width": "252px"
      },
      "navigate_menu": true,
      "number_sections": true,
      "sideBar": true,
      "threshold": 4,
      "toc_cell": false,
      "toc_section_display": "block",
      "toc_window_display": false,
      "widenNotebook": false
    },
    "colab": {
      "name": "Validate Theorem 6",
      "provenance": [],
      "collapsed_sections": [],
      "include_colab_link": true
    },
    "accelerator": "GPU"
  },
  "cells": [
    {
      "cell_type": "markdown",
      "metadata": {
        "id": "view-in-github",
        "colab_type": "text"
      },
      "source": [
        "<a href=\"https://colab.research.google.com/github/WhiteTeaDragon/SingularValues/blob/main/Validate_Theorem_6.ipynb\" target=\"_parent\"><img src=\"https://colab.research.google.com/assets/colab-badge.svg\" alt=\"Open In Colab\"/></a>"
      ]
    },
    {
      "cell_type": "code",
      "metadata": {
        "id": "fZYQj8S4yPoE"
      },
      "source": [
        "import numpy as np\r\n",
        "import tensorflow as tf\r\n",
        "\r\n",
        "k = 3\r\n",
        "n = 16\r\n",
        "x_axis = sorted(set(np.around(np.logspace(0, 3, dtype=int))))"
      ],
      "execution_count": 1,
      "outputs": []
    },
    {
      "cell_type": "code",
      "metadata": {
        "id": "PQc4eCH5yH6R"
      },
      "source": [
        "# strided_method from https://stackoverflow.com/questions/43735034/create-a-matrix-from-a-vector-where-each-row-is-a-shifted-version-of-the-vector\r\n",
        "def strided_method(ar):\r\n",
        "    a = np.concatenate((ar[1:], ar))\r\n",
        "    L = len(ar)\r\n",
        "    n = a.strides[0]\r\n",
        "    return np.lib.stride_tricks.as_strided(a[L-1:], (L,L), (-n,n)).copy()\r\n",
        "\r\n",
        "def strided_method_for_matrices(arr):\r\n",
        "    a = np.concatenate((arr[1:], arr))\r\n",
        "    L = len(arr)\r\n",
        "    n = a.strides[0]\r\n",
        "    return np.lib.stride_tricks.as_strided(a[L-1:], (L, L, *(arr[0].shape)), (-n,n, *(a.strides[1:])))\r\n",
        "\r\n",
        "def build_doubly_block_circ_matrix(k, n, kernel2d):\r\n",
        "    padded_kernel = np.pad(kernel2d, [(0, n - k), (0, n - k)], mode='constant')\r\n",
        "    arr = [0] * n\r\n",
        "    for i in range(n):\r\n",
        "        arr[i] = strided_method(padded_kernel[i])\r\n",
        "    return strided_method_for_matrices(arr).transpose(0, 2, 1, 3).reshape(-1, n**2)\r\n",
        "\r\n",
        "def build_matrix(k, n, m, kernel):\r\n",
        "    dbc_matrices = [[0] * m for i in range(m)]\r\n",
        "    for i in range(m):\r\n",
        "        for j in range(m):\r\n",
        "            dbc_matrices[i][j] = build_doubly_block_circ_matrix(k, n, kernel[:, :, i, j])\r\n",
        "    return np.block(dbc_matrices)"
      ],
      "execution_count": 2,
      "outputs": []
    },
    {
      "cell_type": "code",
      "metadata": {
        "id": "qa79EWYs101J"
      },
      "source": [
        "def simple_method(matr, kernel, n):\r\n",
        "    return np.linalg.svd(matr, compute_uv=False)\r\n",
        "\r\n",
        "def numpy_method(matr, kernel, n):\r\n",
        "    transforms = np.fft.fft2(kernel, (n, n), axes=[0, 1])\r\n",
        "    return np.linalg.svd(transforms, compute_uv=False)\r\n",
        "\r\n",
        "def tensorflow_method128(matr, kernel, n):\r\n",
        "    conv_tr = tf.cast(tf.transpose(kernel, perm=[2, 3, 0, 1]), tf.complex128)\r\n",
        "    transforms = tf.transpose(\r\n",
        "        tf.signal.fft2d(\r\n",
        "            tf.pad(\r\n",
        "                conv_tr, ((0, 0), (0, 0), (0, n - kernel.shape[0]),\r\n",
        "                                (0, n - kernel.shape[0]))\r\n",
        "            )\r\n",
        "        ), \r\n",
        "        perm=[2, 3, 0, 1]\r\n",
        "    )\r\n",
        "    return tf.linalg.svd(transforms, compute_uv=False)\r\n",
        "\r\n",
        "def tensorflow_method64(matr, kernel, n):\r\n",
        "    conv_tr = tf.cast(tf.transpose(kernel, perm=[2, 3, 0, 1]), tf.complex64)\r\n",
        "    transforms = tf.transpose(\r\n",
        "        tf.signal.fft2d(\r\n",
        "            tf.pad(\r\n",
        "                conv_tr, ((0, 0), (0, 0), (0, n - kernel.shape[0]),\r\n",
        "                                (0, n - kernel.shape[0]))\r\n",
        "            )\r\n",
        "        ), \r\n",
        "        perm=[2, 3, 0, 1]\r\n",
        "    )\r\n",
        "    return tf.linalg.svd(transforms, compute_uv=False)"
      ],
      "execution_count": 7,
      "outputs": []
    },
    {
      "cell_type": "code",
      "metadata": {
        "colab": {
          "base_uri": "https://localhost:8080/"
        },
        "id": "P-OZ_noCqE7N",
        "outputId": "c8d634fc-48b4-4b74-fab0-a75814ac2f95"
      },
      "source": [
        "for m in x_axis[:13]:\r\n",
        "    print(\"Starting with\", m)\r\n",
        "    kernel = np.random.standard_normal(size=(k, k, m, m))\r\n",
        "    matr = build_matrix(k, n, m, kernel)\r\n",
        "    simple_svd = simple_method(matr, kernel, n)\r\n",
        "    numpy_svd = np.array(sorted(list(numpy_method(matr, kernel, n).flatten()), reverse=True))\r\n",
        "    tensorflow_svd = np.array(sorted(list(tf.reshape(\r\n",
        "        tensorflow_method128(matr, kernel, n), [n * n * m])), reverse=True))\r\n",
        "    tensorflow64_svd = np.array(sorted(list(tf.reshape(\r\n",
        "        tensorflow_method64(matr, kernel, n), [n * n * m])), reverse=True))\r\n",
        "    simple_numpy = np.allclose(simple_svd, numpy_svd)\r\n",
        "    numpy_tensorflow = np.allclose(numpy_svd, tensorflow_svd)\r\n",
        "    simple_tensorflow = np.allclose(simple_svd, tensorflow_svd)\r\n",
        "    simple_tensorflow64 = np.allclose(simple_svd, tensorflow64_svd)\r\n",
        "    print(\"SIMPLE close to NUMPY\", simple_numpy)\r\n",
        "    print(\"NUMPY close to TENSORFLOW_128\", numpy_tensorflow)\r\n",
        "    print(\"SIMPLE close to TENSORFLOW_128\", simple_tensorflow)\r\n",
        "    print(\"SIMPLE close to TENSORFLOW_64\", simple_tensorflow64)\r\n",
        "    if not simple_numpy or not numpy_tensorflow or not simple_tensorflow:\r\n",
        "        print(\"ERROR!!!\")\r\n",
        "        break"
      ],
      "execution_count": 8,
      "outputs": [
        {
          "output_type": "stream",
          "text": [
            "Starting with 1\n",
            "SIMPLE close to NUMPY True\n",
            "NUMPY close to TENSORFLOW_128 True\n",
            "SIMPLE close to TENSORFLOW_128 True\n",
            "SIMPLE close to TENSORFLOW_64 True\n",
            "Starting with 2\n",
            "SIMPLE close to NUMPY True\n",
            "NUMPY close to TENSORFLOW_128 True\n",
            "SIMPLE close to TENSORFLOW_128 True\n",
            "SIMPLE close to TENSORFLOW_64 True\n",
            "Starting with 3\n",
            "SIMPLE close to NUMPY True\n",
            "NUMPY close to TENSORFLOW_128 True\n",
            "SIMPLE close to TENSORFLOW_128 True\n",
            "SIMPLE close to TENSORFLOW_64 True\n",
            "Starting with 4\n",
            "SIMPLE close to NUMPY True\n",
            "NUMPY close to TENSORFLOW_128 True\n",
            "SIMPLE close to TENSORFLOW_128 True\n",
            "SIMPLE close to TENSORFLOW_64 True\n",
            "Starting with 5\n",
            "SIMPLE close to NUMPY True\n",
            "NUMPY close to TENSORFLOW_128 True\n",
            "SIMPLE close to TENSORFLOW_128 True\n",
            "SIMPLE close to TENSORFLOW_64 True\n",
            "Starting with 6\n",
            "SIMPLE close to NUMPY True\n",
            "NUMPY close to TENSORFLOW_128 True\n",
            "SIMPLE close to TENSORFLOW_128 True\n",
            "SIMPLE close to TENSORFLOW_64 True\n",
            "Starting with 7\n",
            "SIMPLE close to NUMPY True\n",
            "NUMPY close to TENSORFLOW_128 True\n",
            "SIMPLE close to TENSORFLOW_128 True\n",
            "SIMPLE close to TENSORFLOW_64 True\n",
            "Starting with 8\n",
            "SIMPLE close to NUMPY True\n",
            "NUMPY close to TENSORFLOW_128 True\n",
            "SIMPLE close to TENSORFLOW_128 True\n",
            "SIMPLE close to TENSORFLOW_64 False\n",
            "Starting with 9\n",
            "SIMPLE close to NUMPY True\n",
            "NUMPY close to TENSORFLOW_128 True\n",
            "SIMPLE close to TENSORFLOW_128 True\n",
            "SIMPLE close to TENSORFLOW_64 False\n",
            "Starting with 10\n",
            "SIMPLE close to NUMPY True\n",
            "NUMPY close to TENSORFLOW_128 True\n",
            "SIMPLE close to TENSORFLOW_128 True\n",
            "SIMPLE close to TENSORFLOW_64 True\n",
            "Starting with 12\n",
            "SIMPLE close to NUMPY True\n",
            "NUMPY close to TENSORFLOW_128 True\n",
            "SIMPLE close to TENSORFLOW_128 True\n",
            "SIMPLE close to TENSORFLOW_64 False\n",
            "Starting with 14\n",
            "SIMPLE close to NUMPY True\n",
            "NUMPY close to TENSORFLOW_128 True\n",
            "SIMPLE close to TENSORFLOW_128 True\n",
            "SIMPLE close to TENSORFLOW_64 False\n",
            "Starting with 16\n",
            "SIMPLE close to NUMPY True\n",
            "NUMPY close to TENSORFLOW_128 True\n",
            "SIMPLE close to TENSORFLOW_128 True\n",
            "SIMPLE close to TENSORFLOW_64 True\n"
          ],
          "name": "stdout"
        }
      ]
    },
    {
      "cell_type": "code",
      "metadata": {
        "colab": {
          "base_uri": "https://localhost:8080/"
        },
        "id": "cIFGGHoNd826",
        "outputId": "5838fe64-3e13-414e-c1fc-3ce1f7432c5b"
      },
      "source": [
        "kernel.dtype"
      ],
      "execution_count": null,
      "outputs": [
        {
          "output_type": "execute_result",
          "data": {
            "text/plain": [
              "dtype('float64')"
            ]
          },
          "metadata": {
            "tags": []
          },
          "execution_count": 7
        }
      ]
    },
    {
      "cell_type": "code",
      "metadata": {
        "colab": {
          "base_uri": "https://localhost:8080/"
        },
        "id": "ua-DYe_8cyf_",
        "outputId": "bdf61c20-a074-4237-9547-142559b1ed94"
      },
      "source": [
        "(kernel + 0j).dtype"
      ],
      "execution_count": null,
      "outputs": [
        {
          "output_type": "execute_result",
          "data": {
            "text/plain": [
              "dtype('complex128')"
            ]
          },
          "metadata": {
            "tags": []
          },
          "execution_count": 8
        }
      ]
    }
  ]
}