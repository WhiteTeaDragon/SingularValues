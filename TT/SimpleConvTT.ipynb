{
  "nbformat": 4,
  "nbformat_minor": 0,
  "metadata": {
    "colab": {
      "name": "SimpleConvTT.ipynb",
      "provenance": [],
      "collapsed_sections": [
        "J3VcnSJ9rahO"
      ],
      "toc_visible": true,
      "authorship_tag": "ABX9TyN6FnOUXdAXdIUJy0hlfkNS",
      "include_colab_link": true
    },
    "kernelspec": {
      "name": "python3",
      "display_name": "Python 3"
    },
    "language_info": {
      "name": "python"
    },
    "accelerator": "GPU"
  },
  "cells": [
    {
      "cell_type": "markdown",
      "metadata": {
        "id": "view-in-github",
        "colab_type": "text"
      },
      "source": [
        "<a href=\"https://colab.research.google.com/github/WhiteTeaDragon/SingularValues/blob/main/TT/SimpleConvTT.ipynb\" target=\"_parent\"><img src=\"https://colab.research.google.com/assets/colab-badge.svg\" alt=\"Open In Colab\"/></a>"
      ]
    },
    {
      "cell_type": "code",
      "metadata": {
        "id": "praf7vwRHu5P"
      },
      "source": [
        "import tensorflow as tf\n",
        "from tensorflow.python.keras import regularizers\n",
        "import numpy as np\n",
        "import random as rn\n",
        "from tensorflow.python.framework import tensor_shape\n",
        "from tensorflow.python.keras.engine.input_spec import InputSpec\n",
        "import six\n",
        "import functools\n",
        "from tensorflow.python.ops import nn, nn_ops\n",
        "\n",
        "np.random.seed(1)   \n",
        "rn.seed(1)   \n",
        "tf.random.set_seed(1234)"
      ],
      "execution_count": 1,
      "outputs": []
    },
    {
      "cell_type": "markdown",
      "metadata": {
        "id": "4AT4gyNuDQaA"
      },
      "source": [
        "### Проверка функции, превращающей тензорное разложение в ядро"
      ]
    },
    {
      "cell_type": "code",
      "metadata": {
        "id": "C8De736fxe_G"
      },
      "source": [
        "def full_tt(K1, K2, K3):\n",
        "    \"\"\"Converts a TensorTrain into a regular tensor or matrix (tf.Tensor).\"\"\"\n",
        "    res = K1\n",
        "    K2_reshaped = tf.reshape(K2, (K2.shape[0], -1))\n",
        "    res = tf.matmul(res, K2_reshaped)\n",
        "    res = tf.reshape(res, (-1, K3.shape[0]))\n",
        "    res = tf.matmul(res, K3)\n",
        "    res = tf.reshape(res, (K1.shape[0],) + K2.shape[1:-1] + (K3.shape[-1],))\n",
        "    num_dims = len(K2.shape[1:-1])\n",
        "    return tf.transpose(res, list(range(1, num_dims + 1)) + [0, num_dims + 1])\n",
        "\n",
        "def simple_full_tt(K1, K2, K3):\n",
        "    kernel_shape = K2.shape[1:-1]\n",
        "    filters_shape = (K1.shape[0], K3.shape[-1])\n",
        "    res = np.zeros(kernel_shape + filters_shape)\n",
        "    if len(kernel_shape) == 2:\n",
        "        for a in range(kernel_shape[0]):\n",
        "            for b in range(kernel_shape[1]):\n",
        "                for i in range(filters_shape[0]):\n",
        "                    for j in range(filters_shape[1]):\n",
        "                        for alpha in range(K1.shape[1]):\n",
        "                            for beta in range(K2.shape[-1]):\n",
        "                                res[a, b, i, j] += K1[i, alpha] * K2[alpha, a, b, beta] * K3[beta, j]\n",
        "    elif len(kernel_shape) == 3:\n",
        "        for a in range(kernel_shape[0]):\n",
        "            for b in range(kernel_shape[1]):\n",
        "                for c in range(kernel_shape[2]):\n",
        "                    for i in range(filters_shape[0]):\n",
        "                        for j in range(filters_shape[1]):\n",
        "                            for alpha in range(K1.shape[1]):\n",
        "                                for beta in range(K2.shape[-1]):\n",
        "                                    res[a, b, c, i, j] += K1[i, alpha] * K2[alpha, a, b, c, beta] * K3[beta, j]\n",
        "    else:\n",
        "        raise ValueError(\"Only for 2D and 3D images.\")\n",
        "    return res"
      ],
      "execution_count": 2,
      "outputs": []
    },
    {
      "cell_type": "code",
      "metadata": {
        "id": "Ee5KnbQ60Q6m"
      },
      "source": [
        "def check_funcs(rank, kernel_shape, filter_shape):\n",
        "    r1 = min(filter_shape[0], rank)\n",
        "    r2 = min(filter_shape[1], rank)\n",
        "    K1 = np.random.rand(*(filter_shape[0], r1))\n",
        "    K2 = np.random.rand(*((r1,) + kernel_shape + (r2,)))\n",
        "    K3 = np.random.rand(*(r2, filter_shape[1]))\n",
        "    clever_wrong = full_tt(K1, K2, K3)\n",
        "    simple_right = simple_full_tt(K1, K2, K3)\n",
        "    return np.allclose(clever_wrong, simple_right)"
      ],
      "execution_count": null,
      "outputs": []
    },
    {
      "cell_type": "code",
      "metadata": {
        "colab": {
          "base_uri": "https://localhost:8080/"
        },
        "id": "CL76zZBw0-cN",
        "outputId": "a5aadfa5-b3e1-4883-94b5-59de6e57ae42"
      },
      "source": [
        "check_funcs(2, (2, 2), (2, 2))"
      ],
      "execution_count": null,
      "outputs": [
        {
          "output_type": "execute_result",
          "data": {
            "text/plain": [
              "True"
            ]
          },
          "metadata": {
            "tags": []
          },
          "execution_count": 4
        }
      ]
    },
    {
      "cell_type": "code",
      "metadata": {
        "colab": {
          "base_uri": "https://localhost:8080/"
        },
        "id": "TFhAZR1qDsH0",
        "outputId": "1e4737bd-02b5-450c-8426-8d53f7ea3e8f"
      },
      "source": [
        "check_funcs(2, (2, 2, 1), (2, 2))"
      ],
      "execution_count": null,
      "outputs": [
        {
          "output_type": "execute_result",
          "data": {
            "text/plain": [
              "True"
            ]
          },
          "metadata": {
            "tags": []
          },
          "execution_count": 5
        }
      ]
    },
    {
      "cell_type": "code",
      "metadata": {
        "colab": {
          "base_uri": "https://localhost:8080/"
        },
        "id": "NLMZGS2hDvbp",
        "outputId": "90ce43ac-0887-427a-ce5c-a65097073210"
      },
      "source": [
        "check_funcs(2, (2, 2, 2), (2, 2))"
      ],
      "execution_count": null,
      "outputs": [
        {
          "output_type": "execute_result",
          "data": {
            "text/plain": [
              "True"
            ]
          },
          "metadata": {
            "tags": []
          },
          "execution_count": 6
        }
      ]
    },
    {
      "cell_type": "code",
      "metadata": {
        "colab": {
          "base_uri": "https://localhost:8080/"
        },
        "id": "xWpcGgf627IK",
        "outputId": "8faec0b1-b0ce-4b6f-929b-d930d04217f1"
      },
      "source": [
        "check_funcs(4, (7, 7), (32, 32))"
      ],
      "execution_count": null,
      "outputs": [
        {
          "output_type": "execute_result",
          "data": {
            "text/plain": [
              "True"
            ]
          },
          "metadata": {
            "tags": []
          },
          "execution_count": 7
        }
      ]
    },
    {
      "cell_type": "code",
      "metadata": {
        "colab": {
          "base_uri": "https://localhost:8080/"
        },
        "id": "G8dTpq07DxzB",
        "outputId": "8f9f9b6f-22ac-4a0d-8b9a-6bb0c4d86646"
      },
      "source": [
        "check_funcs(4, (7, 7, 7), (32, 32))"
      ],
      "execution_count": null,
      "outputs": [
        {
          "output_type": "execute_result",
          "data": {
            "text/plain": [
              "True"
            ]
          },
          "metadata": {
            "tags": []
          },
          "execution_count": 8
        }
      ]
    },
    {
      "cell_type": "code",
      "metadata": {
        "colab": {
          "base_uri": "https://localhost:8080/"
        },
        "id": "hggAxE9ZCzxW",
        "outputId": "2143a5f7-023e-450a-f92d-ebdf07f973c9"
      },
      "source": [
        "check_funcs(4, (7, 7), (16, 32))"
      ],
      "execution_count": null,
      "outputs": [
        {
          "output_type": "execute_result",
          "data": {
            "text/plain": [
              "True"
            ]
          },
          "metadata": {
            "tags": []
          },
          "execution_count": 9
        }
      ]
    },
    {
      "cell_type": "code",
      "metadata": {
        "colab": {
          "base_uri": "https://localhost:8080/"
        },
        "id": "mAJGqwRMD30K",
        "outputId": "7f59c4a1-2d17-4121-c754-1c8e86f97597"
      },
      "source": [
        "check_funcs(4, (5, 5, 5), (16, 32))"
      ],
      "execution_count": null,
      "outputs": [
        {
          "output_type": "execute_result",
          "data": {
            "text/plain": [
              "True"
            ]
          },
          "metadata": {
            "tags": []
          },
          "execution_count": 10
        }
      ]
    },
    {
      "cell_type": "code",
      "metadata": {
        "colab": {
          "base_uri": "https://localhost:8080/"
        },
        "id": "gqdcRao9_Wow",
        "outputId": "0c5d5821-2081-4168-dbfb-be71916709bc"
      },
      "source": [
        "check_funcs(2, (2, 1), (2, 2))"
      ],
      "execution_count": null,
      "outputs": [
        {
          "output_type": "execute_result",
          "data": {
            "text/plain": [
              "True"
            ]
          },
          "metadata": {
            "tags": []
          },
          "execution_count": 11
        }
      ]
    },
    {
      "cell_type": "code",
      "metadata": {
        "colab": {
          "base_uri": "https://localhost:8080/"
        },
        "id": "0xu6M4_K_Yn4",
        "outputId": "a0835ca7-50f8-4671-8842-5be700527a28"
      },
      "source": [
        "check_funcs(2, (2, 1), (1, 2))"
      ],
      "execution_count": null,
      "outputs": [
        {
          "output_type": "execute_result",
          "data": {
            "text/plain": [
              "True"
            ]
          },
          "metadata": {
            "tags": []
          },
          "execution_count": 12
        }
      ]
    },
    {
      "cell_type": "code",
      "metadata": {
        "colab": {
          "base_uri": "https://localhost:8080/"
        },
        "id": "UwmeKew9_bH6",
        "outputId": "dc007552-174f-4baa-8a47-4157c6f3f98d"
      },
      "source": [
        "check_funcs(2, (2, 2), (1, 2))"
      ],
      "execution_count": null,
      "outputs": [
        {
          "output_type": "execute_result",
          "data": {
            "text/plain": [
              "True"
            ]
          },
          "metadata": {
            "tags": []
          },
          "execution_count": 13
        }
      ]
    },
    {
      "cell_type": "code",
      "metadata": {
        "colab": {
          "base_uri": "https://localhost:8080/"
        },
        "id": "HKMDeM5N_ehF",
        "outputId": "a64f40d6-0127-4e1e-88f8-a9b92eb412f2"
      },
      "source": [
        "check_funcs(2, (2, 2), (2, 1))"
      ],
      "execution_count": null,
      "outputs": [
        {
          "output_type": "execute_result",
          "data": {
            "text/plain": [
              "True"
            ]
          },
          "metadata": {
            "tags": []
          },
          "execution_count": 14
        }
      ]
    },
    {
      "cell_type": "code",
      "metadata": {
        "colab": {
          "base_uri": "https://localhost:8080/"
        },
        "id": "VafYm3spApBe",
        "outputId": "fdc8be22-13d3-49f5-a99d-4db6ac9e7179"
      },
      "source": [
        "check_funcs(17, (7, 7), (16, 32))"
      ],
      "execution_count": null,
      "outputs": [
        {
          "output_type": "execute_result",
          "data": {
            "text/plain": [
              "True"
            ]
          },
          "metadata": {
            "tags": []
          },
          "execution_count": 15
        }
      ]
    },
    {
      "cell_type": "markdown",
      "metadata": {
        "id": "ZIOsm1xkDbtG"
      },
      "source": [
        "### Свёрточный 2D слой с ТТ-разложением"
      ]
    },
    {
      "cell_type": "code",
      "metadata": {
        "id": "hFkPELYHeWWk"
      },
      "source": [
        "def faster_memory(convolution_op, inputs, K1, K2, K3):\n",
        "    return convolution_op(inputs, full_tt(K1, K2, K3))\n",
        "\n",
        "def slower_without_memory(convolution_op, inputs, K1, K2, K3):\n",
        "    inputs1 = convolution_op(inputs, tf.reshape(K1, (1, 1, K1.shape[0], K1.shape[1])))\n",
        "    inputs2 = convolution_op(inputs1, tf.transpose(K2, perm=[1, 2, 0, 3]))\n",
        "    return convolution_op(inputs2, tf.reshape(K3, (1, 1, K3.shape[0], K3.shape[1])))"
      ],
      "execution_count": 12,
      "outputs": []
    },
    {
      "cell_type": "code",
      "metadata": {
        "id": "Gwjwq1q3FtSB"
      },
      "source": [
        "class ConvDecomposed2D(tf.keras.layers.Conv2D):\n",
        "    def __init__(self,\n",
        "               filters,\n",
        "               kernel_size,\n",
        "               decomposition_rank,\n",
        "               use_memory=True,\n",
        "               use_memory_test = True,\n",
        "               strides=(1, 1),\n",
        "               padding='valid',\n",
        "               data_format=None,\n",
        "               dilation_rate=(1, 1),\n",
        "               activation=None,\n",
        "               use_bias=True,\n",
        "               kernel_initializer='glorot_uniform',\n",
        "               bias_initializer='zeros',\n",
        "               kernel_regularizer=None,\n",
        "               bias_regularizer=None,\n",
        "               activity_regularizer=None,\n",
        "               kernel_constraint=None,\n",
        "               bias_constraint=None,\n",
        "               **kwargs):\n",
        "        super(ConvDecomposed2D, self).__init__(\n",
        "               filters=filters,\n",
        "               kernel_size=kernel_size,\n",
        "               strides=strides,\n",
        "               padding=padding,\n",
        "               data_format=data_format,\n",
        "               dilation_rate=dilation_rate,\n",
        "               groups=1, # does not support groups!\n",
        "               activation=activation,\n",
        "               use_bias=use_bias,\n",
        "               kernel_initializer=kernel_initializer,\n",
        "               bias_initializer=bias_initializer,\n",
        "               kernel_regularizer=kernel_regularizer,\n",
        "               bias_regularizer=bias_regularizer,\n",
        "               activity_regularizer=activity_regularizer,\n",
        "               kernel_constraint=kernel_constraint,\n",
        "               bias_constraint=bias_constraint,\n",
        "               **kwargs)\n",
        "        self.decomposition_rank = decomposition_rank\n",
        "        self.K1 = None\n",
        "        self.K2 = None\n",
        "        self.K3 = None\n",
        "        self.bias = None\n",
        "        self._convolution_op = None\n",
        "        self.use_memory = use_memory # can be changed if we use too much memory in singular clipping anyway\n",
        "        self.use_memory_test = use_memory_test\n",
        "\n",
        "    def build(self, input_shape):\n",
        "        input_shape = tf.TensorShape(input_shape).as_list()\n",
        "        if self.data_format == 'channels_last':\n",
        "            input_smth = input_shape[1:-1]\n",
        "        else:\n",
        "            input_smth = input_shape[2:]\n",
        "        input_shape = tensor_shape.TensorShape(input_shape)\n",
        "        input_channel = self._get_input_channel(input_shape)\n",
        "        r1 = min(input_channel, self.decomposition_rank)\n",
        "        r2 = min(self.filters, self.decomposition_rank)\n",
        "\n",
        "        # if not self.use_memory:\n",
        "        #     big_kernel = input_channel * self.filters * self.kernel_size[0] * self.kernel_size[1]\n",
        "        #     padded_kernel = r1 * r2 * input_smth[0] * input_smth[1]\n",
        "        #     self.use_memory = (big_kernel < padded_kernel)\n",
        "    \n",
        "        self.K1 = self.add_weight(\n",
        "            name='K1',\n",
        "            shape=(input_channel, r1),\n",
        "            initializer=self.kernel_initializer,\n",
        "            regularizer=self.kernel_regularizer,\n",
        "            constraint=self.kernel_constraint,\n",
        "            trainable=True,\n",
        "            dtype=self.dtype)\n",
        "        self.K2 = self.add_weight(\n",
        "            name='K2',\n",
        "            shape=(r1,) + self.kernel_size + (r2,),\n",
        "            initializer=self.kernel_initializer,\n",
        "            regularizer=self.kernel_regularizer,\n",
        "            constraint=self.kernel_constraint,\n",
        "            trainable=True,\n",
        "            dtype=self.dtype)\n",
        "        self.K3 = self.add_weight(\n",
        "            name='K3',\n",
        "            shape=(r2, self.filters),\n",
        "            initializer=self.kernel_initializer,\n",
        "            regularizer=self.kernel_regularizer,\n",
        "            constraint=self.kernel_constraint,\n",
        "            trainable=True,\n",
        "            dtype=self.dtype)\n",
        "        \n",
        "        # the rest is copied from Conv build function\n",
        "        if self.use_bias:\n",
        "            self.bias = self.add_weight(\n",
        "              name='bias',\n",
        "              shape=(self.filters,),\n",
        "              initializer=self.bias_initializer,\n",
        "              regularizer=self.bias_regularizer,\n",
        "              constraint=self.bias_constraint,\n",
        "              trainable=True,\n",
        "              dtype=self.dtype)\n",
        "        else:\n",
        "            self.bias = None\n",
        "        channel_axis = self._get_channel_axis()\n",
        "        self.input_spec = InputSpec(min_ndim=self.rank + 2,\n",
        "                                    axes={channel_axis: input_channel})\n",
        "    \n",
        "        # Convert Keras formats to TF native formats.\n",
        "        if self.padding == 'causal':\n",
        "            tf_padding = 'VALID'  # Causal padding handled in `call`.\n",
        "        elif isinstance(self.padding, six.string_types):\n",
        "            tf_padding = self.padding.upper()\n",
        "        else:\n",
        "            tf_padding = self.padding\n",
        "        tf_dilations = list(self.dilation_rate)\n",
        "        tf_strides = list(self.strides)\n",
        "    \n",
        "        tf_op_name = self.__class__.__name__\n",
        "        if tf_op_name == 'Conv1D':\n",
        "            tf_op_name = 'conv1d'  # Backwards compat.\n",
        "    \n",
        "        self._convolution_op = functools.partial(\n",
        "            nn_ops.convolution_v2,\n",
        "            strides=tf_strides,\n",
        "            padding=tf_padding,\n",
        "            dilations=tf_dilations,\n",
        "            data_format=self._tf_data_format,\n",
        "            name=tf_op_name)\n",
        "        self.built = True\n",
        "\n",
        "    def call(self, inputs, training=None):\n",
        "        if training and self.use_memory or not training and self.use_memory_test:\n",
        "            outputs = faster_memory(self._convolution_op, inputs, self.K1, self.K2, self.K3)\n",
        "        else:\n",
        "            outputs = slower_without_memory(self._convolution_op, inputs, self.K1, self.K2, self.K3)\n",
        "        if self.use_bias:\n",
        "            output_rank = outputs.shape.rank\n",
        "            if self.rank == 1 and self._channels_first:\n",
        "                # nn.bias_add does not accept a 1D input tensor.\n",
        "                bias = array_ops.reshape(self.bias, (1, self.filters, 1))\n",
        "                outputs += bias\n",
        "            else:\n",
        "                # Handle multiple batch dimensions.\n",
        "                if output_rank is not None and output_rank > 2 + self.rank:\n",
        "    \n",
        "                    def _apply_fn(o):\n",
        "                        return nn.bias_add(o, self.bias, data_format=self._tf_data_format)\n",
        "    \n",
        "                    outputs = nn_ops.squeeze_batch_dims(\n",
        "                      outputs, _apply_fn, inner_rank=self.rank + 1)\n",
        "                else:\n",
        "                    outputs = nn.bias_add(\n",
        "                      outputs, self.bias, data_format=self._tf_data_format)\n",
        "        if self.activation is not None:\n",
        "            return self.activation(outputs)\n",
        "        return outputs        "
      ],
      "execution_count": 31,
      "outputs": []
    },
    {
      "cell_type": "markdown",
      "metadata": {
        "id": "Zcxk7OZMZiQU"
      },
      "source": [
        "### Проверка свёртки, занимающей меньше памяти"
      ]
    },
    {
      "cell_type": "code",
      "metadata": {
        "id": "Nwt0Dz9eZqqz"
      },
      "source": [
        "def check_funcs(rank, pic_size, kernel_shape, filter_shape):\n",
        "    r1 = min(filter_shape[0], rank)\n",
        "    r2 = min(filter_shape[1], rank)\n",
        "    inputs = np.random.rand(100, pic_size, pic_size, filter_shape[0])\n",
        "    K1 = np.random.rand(*(filter_shape[0], r1))\n",
        "    K2 = np.random.rand(*((r1,) + kernel_shape + (r2,)))\n",
        "    K3 = np.random.rand(*(r2, filter_shape[1]))\n",
        "    conv = ConvDecomposed2D(filter_shape[1], kernel_shape, rank,\n",
        "                            input_shape=(pic_size, pic_size, filter_shape[0]),\n",
        "                            data_format=\"channels_last\", activation='relu',\n",
        "                            padding='same')\n",
        "    conv.build(inputs.shape)\n",
        "    convolution_op = conv._convolution_op\n",
        "    simple_mem = faster_memory(convolution_op, inputs, K1, K2, K3)\n",
        "    slower_mem = slower_without_memory(convolution_op, inputs, K1, K2, K3)\n",
        "    return np.allclose(simple_mem, slower_mem)"
      ],
      "execution_count": 5,
      "outputs": []
    },
    {
      "cell_type": "code",
      "metadata": {
        "colab": {
          "base_uri": "https://localhost:8080/"
        },
        "id": "Wkgf745AceQ0",
        "outputId": "2dcdbf3c-5acb-4ea3-848a-8b17db8504b4"
      },
      "source": [
        "check_funcs(10, 100, (1, 3), (32, 64))"
      ],
      "execution_count": 14,
      "outputs": [
        {
          "output_type": "execute_result",
          "data": {
            "text/plain": [
              "True"
            ]
          },
          "metadata": {
            "tags": []
          },
          "execution_count": 14
        }
      ]
    },
    {
      "cell_type": "code",
      "metadata": {
        "colab": {
          "base_uri": "https://localhost:8080/"
        },
        "id": "m3avRM0WeHU0",
        "outputId": "5d1db65f-6607-4c71-c532-6289d55f3134"
      },
      "source": [
        "check_funcs(1, 10, (3, 3), (5, 5))"
      ],
      "execution_count": 13,
      "outputs": [
        {
          "output_type": "execute_result",
          "data": {
            "text/plain": [
              "True"
            ]
          },
          "metadata": {
            "tags": []
          },
          "execution_count": 13
        }
      ]
    },
    {
      "cell_type": "markdown",
      "metadata": {
        "id": "KSatFAHUVVZM"
      },
      "source": [
        "### Проверка работоспособности слоя на наборе данных из букв (одна из наших домашек)"
      ]
    },
    {
      "cell_type": "markdown",
      "metadata": {
        "id": "wfvhZ-l0rsUd"
      },
      "source": [
        "#### Подготовка данных"
      ]
    },
    {
      "cell_type": "code",
      "metadata": {
        "colab": {
          "base_uri": "https://localhost:8080/"
        },
        "id": "B3tYiEG_VTGT",
        "outputId": "36c67b79-3e2c-4923-f67b-44d48757e238"
      },
      "source": [
        "!wget http://yaroslavvb.com/upload/notMNIST/notMNIST_large.tar.gz\n",
        "!tar -xvf notMNIST_large.tar.gz >> /dev/null"
      ],
      "execution_count": 15,
      "outputs": [
        {
          "output_type": "stream",
          "text": [
            "--2021-05-21 19:06:02--  http://yaroslavvb.com/upload/notMNIST/notMNIST_large.tar.gz\n",
            "Resolving yaroslavvb.com (yaroslavvb.com)... 129.121.4.193\n",
            "Connecting to yaroslavvb.com (yaroslavvb.com)|129.121.4.193|:80... connected.\n",
            "HTTP request sent, awaiting response... 200 OK\n",
            "Length: 247336696 (236M) [application/x-gzip]\n",
            "Saving to: ‘notMNIST_large.tar.gz’\n",
            "\n",
            "notMNIST_large.tar. 100%[===================>] 235.88M  70.7MB/s    in 3.6s    \n",
            "\n",
            "2021-05-21 19:06:06 (66.0 MB/s) - ‘notMNIST_large.tar.gz’ saved [247336696/247336696]\n",
            "\n"
          ],
          "name": "stdout"
        }
      ]
    },
    {
      "cell_type": "code",
      "metadata": {
        "id": "XxgpV6QQVeQU"
      },
      "source": [
        "DATA_DIR = 'notMNIST_large/'"
      ],
      "execution_count": 16,
      "outputs": []
    },
    {
      "cell_type": "code",
      "metadata": {
        "id": "Mo8NwEd7Vrcu"
      },
      "source": [
        "from glob import glob\n",
        "from PIL import Image\n",
        "import os\n",
        "\n",
        "for img_path in glob(f'{DATA_DIR}/**/*.png'):\n",
        "  try:\n",
        "    img = Image.open(img_path)\n",
        "  except:\n",
        "      os.remove(img_path)"
      ],
      "execution_count": 17,
      "outputs": []
    },
    {
      "cell_type": "code",
      "metadata": {
        "colab": {
          "base_uri": "https://localhost:8080/",
          "height": 610
        },
        "id": "PAIaOAt4Vvji",
        "outputId": "103e9462-3e75-4104-d649-44d312423e5d"
      },
      "source": [
        "%matplotlib inline\n",
        "import matplotlib.pyplot as plt\n",
        "import cv2\n",
        "\n",
        "plt.figure(figsize=(17,10))\n",
        "letter = 'A'\n",
        "img = cv2.imread(os.path.join(DATA_DIR, letter, os.listdir(f'{DATA_DIR}/{letter}/')[1]))\n",
        "plt.imshow(img)"
      ],
      "execution_count": 18,
      "outputs": [
        {
          "output_type": "execute_result",
          "data": {
            "text/plain": [
              "<matplotlib.image.AxesImage at 0x7faf14bdf9d0>"
            ]
          },
          "metadata": {
            "tags": []
          },
          "execution_count": 18
        },
        {
          "output_type": "display_data",
          "data": {
            "image/png": "[encoded data removed]",
            "text/plain": [
              "<Figure size 1224x720 with 1 Axes>"
            ]
          },
          "metadata": {
            "tags": [],
            "needs_background": "light"
          }
        }
      ]
    },
    {
      "cell_type": "code",
      "metadata": {
        "id": "v28-MI9WWPLn"
      },
      "source": [
        "import os\n",
        "import keras\n",
        "from keras.models import Sequential\n",
        "from keras.preprocessing import image\n",
        "from keras.layers.core import Activation, Reshape, Dense, Flatten\n",
        "from keras.layers import Conv2D, MaxPool2D, InputLayer, BatchNormalization, Dropout, GlobalAveragePooling2D, GlobalMaxPool2D\n",
        "from keras.models import Model\n",
        "\n",
        "pic_size = 28\n",
        "n_classes = len(os.listdir(DATA_DIR))\n",
        "\n",
        "def build_model(decomposition_rank, memory=True):\n",
        "    model = keras.Sequential([\n",
        "        ConvDecomposed2D(32, 3, decomposition_rank=decomposition_rank,\n",
        "                        input_shape=(pic_size, pic_size, 3),\n",
        "                         use_memory=memory, use_memory_test=memory,\n",
        "                            data_format=\"channels_last\", activation='relu',\n",
        "                            padding='same'),\n",
        "        keras.layers.MaxPooling2D(),\n",
        "        ConvDecomposed2D(32, 3, decomposition_rank=decomposition_rank,\n",
        "                         use_memory=memory, use_memory_test=memory,\n",
        "                        activation='relu', padding='same'),\n",
        "        keras.layers.MaxPooling2D(),\n",
        "        ConvDecomposed2D(16, 3, decomposition_rank=decomposition_rank,\n",
        "                         use_memory=memory, use_memory_test=memory,\n",
        "                        activation='relu', padding='same'),\n",
        "        keras.layers.MaxPooling2D(),\n",
        "        keras.layers.Flatten(),\n",
        "        keras.layers.Dense(128, activation='relu'),\n",
        "        keras.layers.Dense(n_classes, activation='softmax')\n",
        "    ])\n",
        "    model.compile(optimizer='adam', loss='categorical_crossentropy',\n",
        "                metrics=['accuracy'])\n",
        "    model.summary()\n",
        "    return model"
      ],
      "execution_count": 23,
      "outputs": []
    },
    {
      "cell_type": "code",
      "metadata": {
        "colab": {
          "base_uri": "https://localhost:8080/"
        },
        "id": "R3EyzG5DWuER",
        "outputId": "29e0e5c4-65c5-4a34-a3d8-df1f9f7d1982"
      },
      "source": [
        "from keras.preprocessing.image import ImageDataGenerator\n",
        "\n",
        "# Подсказка: train/val split удобно делать вот так https://stackoverflow.com/questions/53037510/can-flow-from-directory-get-train-and-validation-data-from-the-same-directory-in (самый залайканый ответ)\n",
        "\n",
        "\"\"\" Data generators initialization: for train and validation sets \"\"\"\n",
        "generator = ImageDataGenerator(validation_split=0.1, rescale=1./255)\n",
        "train_gen = generator.flow_from_directory(DATA_DIR,\n",
        "                                          target_size=(pic_size, pic_size),\n",
        "                                          class_mode='categorical',\n",
        "                                          subset='training', seed=1)\n",
        "val_gen = generator.flow_from_directory(DATA_DIR,\n",
        "                                        target_size=(pic_size, pic_size),\n",
        "                                        class_mode='categorical',\n",
        "                                        subset='validation', seed=1)"
      ],
      "execution_count": 20,
      "outputs": [
        {
          "output_type": "stream",
          "text": [
            "Found 476205 images belonging to 10 classes.\n",
            "Found 52909 images belonging to 10 classes.\n"
          ],
          "name": "stdout"
        }
      ]
    },
    {
      "cell_type": "markdown",
      "metadata": {
        "id": "Xmr9s-v4rJu8"
      },
      "source": [
        "#### Модель с обычными свёрточными слоями"
      ]
    },
    {
      "cell_type": "code",
      "metadata": {
        "colab": {
          "base_uri": "https://localhost:8080/"
        },
        "id": "UvWuVxCgjTTM",
        "outputId": "2264e55d-782e-4a65-f7f6-12f5fb00cee9"
      },
      "source": [
        "model = keras.Sequential([\n",
        "    keras.layers.Conv2D(32, 3, input_shape=(pic_size, pic_size, 3),\n",
        "                        data_format=\"channels_last\", activation='relu',\n",
        "                        padding='same'),\n",
        "    keras.layers.MaxPooling2D(),\n",
        "    keras.layers.Conv2D(32, 3, activation='relu', padding='same'),\n",
        "    keras.layers.MaxPooling2D(),\n",
        "    keras.layers.Conv2D(16, 3, activation='relu', padding='same'),\n",
        "    keras.layers.MaxPooling2D(),\n",
        "    keras.layers.Flatten(),\n",
        "    keras.layers.Dense(128, activation='relu'),\n",
        "    keras.layers.Dense(n_classes, activation='softmax')\n",
        "])\n",
        "model.compile(optimizer='adam', loss='categorical_crossentropy',\n",
        "              metrics=['accuracy'])\n",
        "model.summary()"
      ],
      "execution_count": 21,
      "outputs": [
        {
          "output_type": "stream",
          "text": [
            "Model: \"sequential\"\n",
            "_________________________________________________________________\n",
            "Layer (type)                 Output Shape              Param #   \n",
            "=================================================================\n",
            "conv2d (Conv2D)              (None, 28, 28, 32)        896       \n",
            "_________________________________________________________________\n",
            "max_pooling2d (MaxPooling2D) (None, 14, 14, 32)        0         \n",
            "_________________________________________________________________\n",
            "conv2d_1 (Conv2D)            (None, 14, 14, 32)        9248      \n",
            "_________________________________________________________________\n",
            "max_pooling2d_1 (MaxPooling2 (None, 7, 7, 32)          0         \n",
            "_________________________________________________________________\n",
            "conv2d_2 (Conv2D)            (None, 7, 7, 16)          4624      \n",
            "_________________________________________________________________\n",
            "max_pooling2d_2 (MaxPooling2 (None, 3, 3, 16)          0         \n",
            "_________________________________________________________________\n",
            "flatten (Flatten)            (None, 144)               0         \n",
            "_________________________________________________________________\n",
            "dense (Dense)                (None, 128)               18560     \n",
            "_________________________________________________________________\n",
            "dense_1 (Dense)              (None, 10)                1290      \n",
            "=================================================================\n",
            "Total params: 34,618\n",
            "Trainable params: 34,618\n",
            "Non-trainable params: 0\n",
            "_________________________________________________________________\n"
          ],
          "name": "stdout"
        }
      ]
    },
    {
      "cell_type": "code",
      "metadata": {
        "colab": {
          "base_uri": "https://localhost:8080/"
        },
        "id": "HzA9v2bEoWgE",
        "outputId": "bbd3fc46-d97d-46ea-9b16-14356a0390d5"
      },
      "source": [
        "step_size_train = (train_gen.n // train_gen.batch_size)\n",
        "step_size_valid = (val_gen.n // val_gen.batch_size)\n",
        "\n",
        "history2 = model.fit(train_gen, steps_per_epoch=step_size_train, epochs=2,\n",
        "                    validation_data=val_gen,\n",
        "                    validation_steps=step_size_valid)"
      ],
      "execution_count": 22,
      "outputs": [
        {
          "output_type": "stream",
          "text": [
            "Epoch 1/2\n",
            "14881/14881 [==============================] - 146s 10ms/step - loss: 0.4472 - accuracy: 0.8672 - val_loss: 0.2577 - val_accuracy: 0.9230\n",
            "Epoch 2/2\n",
            "14881/14881 [==============================] - 143s 10ms/step - loss: 0.2818 - accuracy: 0.9140 - val_loss: 0.2328 - val_accuracy: 0.9308\n"
          ],
          "name": "stdout"
        }
      ]
    },
    {
      "cell_type": "markdown",
      "metadata": {
        "id": "NRChluDlrVYz"
      },
      "source": [
        "#### decomposition_rank = 1 (with use_memory=False)"
      ]
    },
    {
      "cell_type": "code",
      "metadata": {
        "colab": {
          "base_uri": "https://localhost:8080/"
        },
        "id": "nUuo_lwPigPL",
        "outputId": "b345b80e-d582-4b5d-9853-f3b23d1662b1"
      },
      "source": [
        "model1 = build_model(1, False) # the function was trivially changed for this"
      ],
      "execution_count": 24,
      "outputs": [
        {
          "output_type": "stream",
          "text": [
            "Model: \"sequential_1\"\n",
            "_________________________________________________________________\n",
            "Layer (type)                 Output Shape              Param #   \n",
            "=================================================================\n",
            "conv_decomposed2d_5 (ConvDec (None, 28, 28, 32)        76        \n",
            "_________________________________________________________________\n",
            "max_pooling2d_3 (MaxPooling2 (None, 14, 14, 32)        0         \n",
            "_________________________________________________________________\n",
            "conv_decomposed2d_6 (ConvDec (None, 14, 14, 32)        105       \n",
            "_________________________________________________________________\n",
            "max_pooling2d_4 (MaxPooling2 (None, 7, 7, 32)          0         \n",
            "_________________________________________________________________\n",
            "conv_decomposed2d_7 (ConvDec (None, 7, 7, 16)          73        \n",
            "_________________________________________________________________\n",
            "max_pooling2d_5 (MaxPooling2 (None, 3, 3, 16)          0         \n",
            "_________________________________________________________________\n",
            "flatten_1 (Flatten)          (None, 144)               0         \n",
            "_________________________________________________________________\n",
            "dense_2 (Dense)              (None, 128)               18560     \n",
            "_________________________________________________________________\n",
            "dense_3 (Dense)              (None, 10)                1290      \n",
            "=================================================================\n",
            "Total params: 20,104\n",
            "Trainable params: 20,104\n",
            "Non-trainable params: 0\n",
            "_________________________________________________________________\n"
          ],
          "name": "stdout"
        }
      ]
    },
    {
      "cell_type": "code",
      "metadata": {
        "colab": {
          "base_uri": "https://localhost:8080/"
        },
        "id": "lR4MyUYOburL",
        "outputId": "1d6ef5c2-b304-4619-d0be-d3f683d0735d"
      },
      "source": [
        "step_size_train = (train_gen.n // train_gen.batch_size)\n",
        "step_size_valid = (val_gen.n // val_gen.batch_size)\n",
        "\n",
        "history2 = model1.fit(train_gen, steps_per_epoch=step_size_train, epochs=2,\n",
        "                    validation_data=val_gen,\n",
        "                    validation_steps=step_size_valid)"
      ],
      "execution_count": 25,
      "outputs": [
        {
          "output_type": "stream",
          "text": [
            "Epoch 1/2\n",
            "14881/14881 [==============================] - 158s 11ms/step - loss: 0.8050 - accuracy: 0.7536 - val_loss: 0.5053 - val_accuracy: 0.8517\n",
            "Epoch 2/2\n",
            "14881/14881 [==============================] - 157s 11ms/step - loss: 0.5571 - accuracy: 0.8318 - val_loss: 0.4567 - val_accuracy: 0.8602\n"
          ],
          "name": "stdout"
        }
      ]
    },
    {
      "cell_type": "markdown",
      "metadata": {
        "id": "l773vFkM9bCu"
      },
      "source": [
        "#### decomposition_rank = 1"
      ]
    },
    {
      "cell_type": "code",
      "metadata": {
        "colab": {
          "base_uri": "https://localhost:8080/"
        },
        "id": "iAj3WXUl9kVU",
        "outputId": "d4586791-c2a8-4ef5-957e-b461cdd6688f"
      },
      "source": [
        "model1 = build_model(1)"
      ],
      "execution_count": 27,
      "outputs": [
        {
          "output_type": "stream",
          "text": [
            "Model: \"sequential_2\"\n",
            "_________________________________________________________________\n",
            "Layer (type)                 Output Shape              Param #   \n",
            "=================================================================\n",
            "conv_decomposed2d_8 (ConvDec (None, 28, 28, 32)        76        \n",
            "_________________________________________________________________\n",
            "max_pooling2d_6 (MaxPooling2 (None, 14, 14, 32)        0         \n",
            "_________________________________________________________________\n",
            "conv_decomposed2d_9 (ConvDec (None, 14, 14, 32)        105       \n",
            "_________________________________________________________________\n",
            "max_pooling2d_7 (MaxPooling2 (None, 7, 7, 32)          0         \n",
            "_________________________________________________________________\n",
            "conv_decomposed2d_10 (ConvDe (None, 7, 7, 16)          73        \n",
            "_________________________________________________________________\n",
            "max_pooling2d_8 (MaxPooling2 (None, 3, 3, 16)          0         \n",
            "_________________________________________________________________\n",
            "flatten_2 (Flatten)          (None, 144)               0         \n",
            "_________________________________________________________________\n",
            "dense_4 (Dense)              (None, 128)               18560     \n",
            "_________________________________________________________________\n",
            "dense_5 (Dense)              (None, 10)                1290      \n",
            "=================================================================\n",
            "Total params: 20,104\n",
            "Trainable params: 20,104\n",
            "Non-trainable params: 0\n",
            "_________________________________________________________________\n"
          ],
          "name": "stdout"
        }
      ]
    },
    {
      "cell_type": "code",
      "metadata": {
        "colab": {
          "base_uri": "https://localhost:8080/"
        },
        "id": "-wlr03FR9mXL",
        "outputId": "c790484e-fc2f-47ab-d558-78bf9896c7ff"
      },
      "source": [
        "step_size_train = (train_gen.n // train_gen.batch_size)\n",
        "step_size_valid = (val_gen.n // val_gen.batch_size)\n",
        "\n",
        "history2 = model1.fit(train_gen, steps_per_epoch=step_size_train, epochs=2,\n",
        "                    validation_data=val_gen,\n",
        "                    validation_steps=step_size_valid)"
      ],
      "execution_count": 28,
      "outputs": [
        {
          "output_type": "stream",
          "text": [
            "Epoch 1/2\n",
            "14881/14881 [==============================] - 148s 10ms/step - loss: 0.8077 - accuracy: 0.7562 - val_loss: 0.4956 - val_accuracy: 0.8524\n",
            "Epoch 2/2\n",
            "14881/14881 [==============================] - 147s 10ms/step - loss: 0.5580 - accuracy: 0.8324 - val_loss: 0.4778 - val_accuracy: 0.8560\n"
          ],
          "name": "stdout"
        }
      ]
    },
    {
      "cell_type": "markdown",
      "metadata": {
        "id": "oElPVSLYq-SM"
      },
      "source": [
        "#### decomposition_rank = 17 (with use_memory=False)"
      ]
    },
    {
      "cell_type": "code",
      "metadata": {
        "colab": {
          "base_uri": "https://localhost:8080/"
        },
        "id": "j08RiAnXb0WD",
        "outputId": "10d03090-932e-48fb-eedc-c7a3c12b1525"
      },
      "source": [
        "model17 = build_model(17, False)"
      ],
      "execution_count": 32,
      "outputs": [
        {
          "output_type": "stream",
          "text": [
            "Model: \"sequential_4\"\n",
            "_________________________________________________________________\n",
            "Layer (type)                 Output Shape              Param #   \n",
            "=================================================================\n",
            "conv_decomposed2d_14 (ConvDe (None, 28, 28, 32)        1044      \n",
            "_________________________________________________________________\n",
            "max_pooling2d_12 (MaxPooling (None, 14, 14, 32)        0         \n",
            "_________________________________________________________________\n",
            "conv_decomposed2d_15 (ConvDe (None, 14, 14, 32)        3721      \n",
            "_________________________________________________________________\n",
            "max_pooling2d_13 (MaxPooling (None, 7, 7, 32)          0         \n",
            "_________________________________________________________________\n",
            "conv_decomposed2d_16 (ConvDe (None, 7, 7, 16)          3264      \n",
            "_________________________________________________________________\n",
            "max_pooling2d_14 (MaxPooling (None, 3, 3, 16)          0         \n",
            "_________________________________________________________________\n",
            "flatten_4 (Flatten)          (None, 144)               0         \n",
            "_________________________________________________________________\n",
            "dense_8 (Dense)              (None, 128)               18560     \n",
            "_________________________________________________________________\n",
            "dense_9 (Dense)              (None, 10)                1290      \n",
            "=================================================================\n",
            "Total params: 27,879\n",
            "Trainable params: 27,879\n",
            "Non-trainable params: 0\n",
            "_________________________________________________________________\n"
          ],
          "name": "stdout"
        }
      ]
    },
    {
      "cell_type": "code",
      "metadata": {
        "colab": {
          "base_uri": "https://localhost:8080/"
        },
        "id": "wRuBKxVtb6jd",
        "outputId": "dc9388d7-e793-4640-fe9d-9bbce5797405"
      },
      "source": [
        "step_size_train = (train_gen.n // train_gen.batch_size)\n",
        "step_size_valid = (val_gen.n // val_gen.batch_size)\n",
        "\n",
        "history2 = model17.fit(train_gen, steps_per_epoch=step_size_train, epochs=2,\n",
        "                    validation_data=val_gen,\n",
        "                    validation_steps=step_size_valid)"
      ],
      "execution_count": 33,
      "outputs": [
        {
          "output_type": "stream",
          "text": [
            "Epoch 1/2\n",
            "14881/14881 [==============================] - 164s 11ms/step - loss: 0.4669 - accuracy: 0.8608 - val_loss: 0.2551 - val_accuracy: 0.9242\n",
            "Epoch 2/2\n",
            "14881/14881 [==============================] - 161s 11ms/step - loss: 0.2945 - accuracy: 0.9099 - val_loss: 0.2375 - val_accuracy: 0.9281\n"
          ],
          "name": "stdout"
        }
      ]
    },
    {
      "cell_type": "markdown",
      "metadata": {
        "id": "J3VcnSJ9rahO"
      },
      "source": [
        "#### decomposition_rank = 17"
      ]
    },
    {
      "cell_type": "code",
      "metadata": {
        "colab": {
          "base_uri": "https://localhost:8080/"
        },
        "id": "HhKMxgKSG0Jx",
        "outputId": "b52ddb63-698b-4fd0-a8dd-919827dcccc9"
      },
      "source": [
        "16 * 16 + 16 * 3 * 3 * 17 + 17 * 32 + 16 # bias"
      ],
      "execution_count": null,
      "outputs": [
        {
          "output_type": "execute_result",
          "data": {
            "text/plain": [
              "3264"
            ]
          },
          "metadata": {
            "tags": []
          },
          "execution_count": 49
        }
      ]
    },
    {
      "cell_type": "code",
      "metadata": {
        "colab": {
          "base_uri": "https://localhost:8080/"
        },
        "id": "ZxOR56Sji3XJ",
        "outputId": "c724bfb0-ee70-410b-aab7-9aff7e6fbb0e"
      },
      "source": [
        "model17 = build_model(17)"
      ],
      "execution_count": 29,
      "outputs": [
        {
          "output_type": "stream",
          "text": [
            "Model: \"sequential_3\"\n",
            "_________________________________________________________________\n",
            "Layer (type)                 Output Shape              Param #   \n",
            "=================================================================\n",
            "conv_decomposed2d_11 (ConvDe (None, 28, 28, 32)        1044      \n",
            "_________________________________________________________________\n",
            "max_pooling2d_9 (MaxPooling2 (None, 14, 14, 32)        0         \n",
            "_________________________________________________________________\n",
            "conv_decomposed2d_12 (ConvDe (None, 14, 14, 32)        3721      \n",
            "_________________________________________________________________\n",
            "max_pooling2d_10 (MaxPooling (None, 7, 7, 32)          0         \n",
            "_________________________________________________________________\n",
            "conv_decomposed2d_13 (ConvDe (None, 7, 7, 16)          3264      \n",
            "_________________________________________________________________\n",
            "max_pooling2d_11 (MaxPooling (None, 3, 3, 16)          0         \n",
            "_________________________________________________________________\n",
            "flatten_3 (Flatten)          (None, 144)               0         \n",
            "_________________________________________________________________\n",
            "dense_6 (Dense)              (None, 128)               18560     \n",
            "_________________________________________________________________\n",
            "dense_7 (Dense)              (None, 10)                1290      \n",
            "=================================================================\n",
            "Total params: 27,879\n",
            "Trainable params: 27,879\n",
            "Non-trainable params: 0\n",
            "_________________________________________________________________\n"
          ],
          "name": "stdout"
        }
      ]
    },
    {
      "cell_type": "code",
      "metadata": {
        "colab": {
          "base_uri": "https://localhost:8080/"
        },
        "id": "8a5QMldUb09e",
        "outputId": "4a2883c1-6c51-472f-a6b1-f0869599d831"
      },
      "source": [
        "step_size_train = (train_gen.n // train_gen.batch_size)\n",
        "step_size_valid = (val_gen.n // val_gen.batch_size)\n",
        "\n",
        "history2 = model17.fit(train_gen, steps_per_epoch=step_size_train, epochs=2,\n",
        "                    validation_data=val_gen,\n",
        "                    validation_steps=step_size_valid)"
      ],
      "execution_count": 30,
      "outputs": [
        {
          "output_type": "stream",
          "text": [
            "Epoch 1/2\n",
            "14881/14881 [==============================] - 152s 10ms/step - loss: 0.4792 - accuracy: 0.8560 - val_loss: 0.2620 - val_accuracy: 0.9213\n",
            "Epoch 2/2\n",
            "14881/14881 [==============================] - 149s 10ms/step - loss: 0.2993 - accuracy: 0.9085 - val_loss: 0.2371 - val_accuracy: 0.9285\n"
          ],
          "name": "stdout"
        }
      ]
    }
  ]
}